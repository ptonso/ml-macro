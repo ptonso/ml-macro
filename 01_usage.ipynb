{
 "cells": [
  {
   "cell_type": "code",
   "execution_count": null,
   "id": "6f82a86c",
   "metadata": {},
   "outputs": [],
   "source": [
    "import pandas as pd\n",
    "from typing import *\n",
    "from src.preprocess.dataset import Dataset, DatasetConfig\n",
    "from src.preprocess.result import ResultData\n",
    "\n",
    "\n",
    "# Usage Example:\n",
    "\n",
    "dataset_names: Optional[List[str]]\n",
    "\n",
    "# example result data\n",
    "rd_raw = ResultData(\n",
    "    datadict = True, # Optional[Dict[str, pd.DataFrame]]\n",
    "    ml_ready = True, # Optional[pd.DataFrame]\n",
    "    metadata = True  # Optional[\"Metadata\"]\n",
    "    )\n",
    "\n",
    "\n",
    "dataset_raw = Dataset(\n",
    "    DatasetConfig(type=\"raw\")\n",
    ")\n",
    "\n",
    "dataset_clean = Dataset(\n",
    "    DatasetConfig(type=\"clean\")\n",
    ")\n",
    "\n",
    "result_raw   = dataset_raw.get()\n",
    "result_clean = dataset_clean.get()"
   ]
  },
  {
   "cell_type": "code",
   "execution_count": null,
   "id": "d58ea6d2",
   "metadata": {},
   "outputs": [],
   "source": [
    "print(f\"total NaN in raw:     {result_raw.ml_ready.isna().sum().sum()}\")\n",
    "print(f\"total NaN in cleaned: {result_clean.ml_ready.isna().sum().sum()}\")\n",
    "\n",
    "print(dataset_raw.config.type)\n",
    "print(dataset_clean.config.type)\n",
    "\n",
    "print(f\"\\ngroup sizes raw:   {result_raw.ml_ready.groupby('country').size()}\")\n",
    "print(f\"\\ngroup sizes clean: {result_clean.ml_ready.groupby('country').size()}\")\n"
   ]
  },
  {
   "cell_type": "code",
   "execution_count": null,
   "id": "863868a8",
   "metadata": {},
   "outputs": [],
   "source": [
    "print(\"raw dataset\")\n",
    "print(result_raw.ml_ready.head().to_markdown())\n",
    "\n",
    "print(\"cleaned dataset\")\n",
    "print(result_clean.ml_ready.head().to_markdown())"
   ]
  },
  {
   "cell_type": "code",
   "execution_count": null,
   "id": "f49733b8",
   "metadata": {},
   "outputs": [],
   "source": [
    "# dictionary with key=names : value=dataframe\n",
    "\n",
    "\"\"\"\n",
    "{\"feature1\" : dataframe}\n",
    "\n",
    "frames in format:\n",
    "year | country1 | country2 ...\n",
    "2019 | value1   | value2   \n",
    "\"\"\"\n",
    "\n",
    "datadict : Dict[str, pd.DataFrame] = result_clean.datadict\n",
    "\n",
    "for key in list(datadict.keys()): \n",
    "    print(f\"{key}\") "
   ]
  },
  {
   "cell_type": "code",
   "execution_count": null,
   "id": "ad2b86d4",
   "metadata": {},
   "outputs": [],
   "source": [
    "# single dataframe in format\n",
    "\"\"\"\n",
    "year country   |  feature1 |  feature2 ...\n",
    "2019 country1  |  value    |  value    ...\n",
    "2019 country2  |  value    |  value    ...\n",
    "2019 country3  |  value    |  value    ...\n",
    "...\n",
    "2020 country1  |  feature1 |  value    ...\n",
    "2020 country2  |  feature1 |  value    ...\n",
    "2020 country3  |  feature1 |  value    ...\n",
    "...\n",
    "\"\"\"\n",
    "\n",
    "\n",
    "ml_data : pd.DataFrame = result_clean.ml_ready\n",
    "print(ml_data.head().to_markdown())"
   ]
  }
 ],
 "metadata": {
  "kernelspec": {
   "display_name": "venv",
   "language": "python",
   "name": "python3"
  },
  "language_info": {
   "codemirror_mode": {
    "name": "ipython",
    "version": 3
   },
   "file_extension": ".py",
   "mimetype": "text/x-python",
   "name": "python",
   "nbconvert_exporter": "python",
   "pygments_lexer": "ipython3",
   "version": "3.10.12"
  }
 },
 "nbformat": 4,
 "nbformat_minor": 5
}
