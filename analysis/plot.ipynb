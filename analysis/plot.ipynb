{
 "cells": [
  {
   "cell_type": "code",
   "execution_count": 1,
   "metadata": {},
   "outputs": [
    {
     "data": {
      "application/vnd.plotly.v1+json": {
       "config": {
        "plotlyServerURL": "https://plot.ly"
       },
       "data": [
        {
         "coloraxis": "coloraxis",
         "customdata": [
          [
           "20.0B"
          ],
          [
           "929.1B"
          ],
          [
           "787.1B"
          ],
          [
           "15.2B"
          ],
          [
           "164.9B"
          ],
          [
           "721.0M"
          ],
          [
           "2.9B"
          ],
          [
           "48.5B"
          ],
          [
           "1.4B"
          ],
          [
           "2.6T"
          ],
          [
           "385.7B"
          ],
          [
           "12.6B"
          ],
          [
           "2.6B"
          ],
          [
           "1.3T"
          ],
          [
           "435.0B"
          ],
          [
           "42.7B"
          ],
          [
           "10.0B"
          ],
          [
           "34.6B"
          ],
          [
           "374.0B"
          ],
          [
           "4.8B"
          ],
          [
           "61.4B"
          ],
          [
           "526.0B"
          ],
          [
           "2.0B"
          ],
          [
           "15.7B"
          ],
          [
           "6.9B"
          ],
          [
           "2.5B"
          ],
          [
           "36.6B"
          ],
          [
           "20.2B"
          ],
          [
           "15.0B"
          ],
          [
           "1.5T"
          ],
          [
           "12.0B"
          ],
          [
           "70.4B"
          ],
          [
           "17.7B"
          ],
          [
           "2.6B"
          ],
          [
           "1.8B"
          ],
          [
           "25.9B"
          ],
          [
           "40.8B"
          ],
          [
           "1.7T"
          ],
          [
           "31.4B"
          ],
          [
           "5.7B"
          ],
          [
           "2.3B"
          ],
          [
           "1.7T"
          ],
          [
           "10.7B"
          ],
          [
           "9.3B"
          ],
          [
           "254.0B"
          ],
          [
           "14.7T"
          ],
          [
           "270.3B"
          ],
          [
           "1.2B"
          ],
          [
           "48.7B"
          ],
          [
           "11.5B"
          ],
          [
           "62.4B"
          ],
          [
           "63.0B"
          ],
          [
           "58.2B"
          ],
          [
           "107.4B"
          ],
          [
           "2.5B"
          ],
          [
           "25.2B"
          ],
          [
           "246.0B"
          ],
          [
           "354.8B"
          ],
          [
           "3.2B"
          ],
          [
           "504.2M"
          ],
          [
           "78.8B"
          ],
          [
           "11.0T"
          ],
          [
           "27.2T"
          ],
          [
           "17.5T"
          ],
          [
           "17.5T"
          ],
          [
           "95.9B"
          ],
          [
           "383.8B"
          ],
          [
           "24.9B"
          ],
          [
           "9.9B"
          ],
          [
           "2.1B"
          ],
          [
           "31.3B"
          ],
          [
           "4.0B"
          ],
          [
           "107.7B"
          ],
          [
           "13.2T"
          ],
          [
           "22.2T"
          ],
          [
           "1.4T"
          ],
          [
           "3.9T"
          ],
          [
           "15.4T"
          ],
          [
           "3.3B"
          ],
          [
           "4.4B"
          ],
          [
           "271.9B"
          ],
          [
           "1.7T"
          ],
          [
           "2.6T"
          ],
          [
           "5.8B"
          ],
          [
           "15.3B"
          ],
          [
           "1.8B"
          ],
          [
           "16.0B"
          ],
          [
           "3.9T"
          ],
          [
           "70.0B"
          ],
          [
           "188.5B"
          ],
          [
           "3.1B"
          ],
          [
           "1.0B"
          ],
          [
           "5.9B"
          ],
          [
           "77.7B"
          ],
          [
           "14.2B"
          ],
          [
           "1.5B"
          ],
          [
           "5.5B"
          ],
          [
           "14.5B"
          ],
          [
           "811.4B"
          ],
          [
           "55.8T"
          ],
          [
           "23.4B"
          ],
          [
           "344.9B"
          ],
          [
           "157.3B"
          ],
          [
           "30.1T"
          ],
          [
           "21.6B"
          ],
          [
           "32.5T"
          ],
          [
           "1.0T"
          ],
          [
           "1.4T"
          ],
          [
           "2.4T"
          ],
          [
           "2.7T"
          ],
          [
           "1.1T"
          ],
          [
           "239.7B"
          ],
          [
           "180.9B"
          ],
          [
           "428.6B"
          ],
          [
           "6.7B"
          ],
          [
           "413.3B"
          ],
          [
           "1.9T"
          ],
          [
           "13.8B"
          ],
          [
           "5.1T"
          ],
          [
           "43.7B"
          ],
          [
           "171.1B"
          ],
          [
           "100.7B"
          ],
          [
           "223.0M"
          ],
          [
           "1.6T"
          ],
          [
           "7.7B"
          ],
          [
           "107.5B"
          ],
          [
           "8.3B"
          ],
          [
           "19.0B"
          ],
          [
           "22.5T"
          ],
          [
           "4.8T"
          ],
          [
           "4.0T"
          ],
          [
           "4.6T"
          ],
          [
           "34.4B"
          ],
          [
           "1.2T"
          ],
          [
           "31.7B"
          ],
          [
           "2.1B"
          ],
          [
           "3.2B"
          ],
          [
           "65.7B"
          ],
          [
           "6.4B"
          ],
          [
           "57.0B"
          ],
          [
           "29.5T"
          ],
          [
           "439.8B"
          ],
          [
           "6.1T"
          ],
          [
           "73.7B"
          ],
          [
           "25.3B"
          ],
          [
           "13.1B"
          ],
          [
           "12.0B"
          ],
          [
           "337.5B"
          ],
          [
           "3.7B"
          ],
          [
           "17.5B"
          ],
          [
           "15.2B"
          ],
          [
           "240.8M"
          ],
          [
           "8.3B"
          ],
          [
           "11.4B"
          ],
          [
           "1.1T"
          ],
          [
           "372.0M"
          ],
          [
           "3.2T"
          ],
          [
           "1.3T"
          ],
          [
           "1.3T"
          ],
          [
           "29.1T"
          ],
          [
           "11.5B"
          ],
          [
           "6.7B"
          ],
          [
           "13.3B"
          ],
          [
           "4.8B"
          ],
          [
           "121.4B"
          ],
          [
           "14.2B"
          ],
          [
           "79.0B"
          ],
          [
           "10.6B"
          ],
          [
           "124.7M"
          ],
          [
           "33.4B"
          ],
          [
           "909.8B"
          ],
          [
           "9.5B"
          ],
          [
           "212.7B"
          ],
          [
           "12.7B"
          ],
          [
           "13.7B"
          ],
          [
           "432.2B"
          ],
          [
           "23.0T"
          ],
          [
           "12.4B"
          ],
          [
           "858.0M"
          ],
          [
           "367.6B"
          ],
          [
           "52.9T"
          ],
          [
           "75.9B"
          ],
          [
           "178.2B"
          ],
          [
           "9.5B"
          ],
          [
           "300.4B"
          ],
          [
           "261.2M"
          ],
          [
           "57.1B"
          ],
          [
           "23.8B"
          ],
          [
           "35.4B"
          ],
          [
           "201.4B"
          ],
          [
           "361.8B"
          ],
          [
           "599.4B"
          ],
          [
           "229.0B"
          ],
          [
           "50.0T"
          ],
          [
           "1.3T"
          ],
          [
           "103.1B"
          ],
          [
           "144.4B"
          ],
          [
           "251.4B"
          ],
          [
           "1.5T"
          ],
          [
           "10.2B"
          ],
          [
           "868.9M"
          ],
          [
           "1.5B"
          ],
          [
           "471.2M"
          ],
          [
           "734.3B"
          ],
          [
           "24.5B"
          ],
          [
           "53.4B"
          ],
          [
           "1.4B"
          ],
          [
           "4.1B"
          ],
          [
           "349.5B"
          ],
          [
           "1.2B"
          ],
          [
           "106.7B"
          ],
          [
           "53.7B"
          ],
          [
           "219.1B"
          ],
          [
           "1.5B"
          ],
          [
           "9.2B"
          ],
          [
           "338.3B"
          ],
          [
           "3.5T"
          ],
          [
           "3.5T"
          ],
          [
           "12.0B"
          ],
          [
           "1.3T"
          ],
          [
           "84.3B"
          ],
          [
           "883.9M"
          ],
          [
           "1.5B"
          ],
          [
           "650.7M"
          ],
          [
           "869.1M"
          ],
          [
           "1.7T"
          ],
          [
           "1.7T"
          ],
          [
           "1.7T"
          ],
          [
           "27.0B"
          ],
          [
           "2.9B"
          ],
          [
           "547.1B"
          ],
          [
           "742.0B"
          ],
          [
           "11.2B"
          ],
          [
           "8.1B"
          ],
          [
           "66.1B"
          ],
          [
           "500.5B"
          ],
          [
           "2.2B"
          ],
          [
           "7.4B"
          ],
          [
           "484.8M"
          ],
          [
           "20.8B"
          ],
          [
           "42.5B"
          ],
          [
           "720.3B"
          ],
          [
           "45.8B"
          ],
          [
           "774.7M"
          ],
          [
           "51.7M"
          ],
          [
           "37.6B"
          ],
          [
           "156.6B"
          ],
          [
           "349.5B"
          ],
          [
           "2.7T"
          ],
          [
           "21.3T"
          ],
          [
           "23.0T"
          ],
          [
           "53.7B"
          ],
          [
           "60.2B"
          ],
          [
           "909.4M"
          ],
          [
           "482.4B"
          ],
          [
           "346.6B"
          ],
          [
           "4.2B"
          ],
          [
           "15.5B"
          ],
          [
           "85.6T"
          ],
          [
           "21.6B"
          ],
          [
           "18.1B"
          ],
          [
           "21.5B"
          ]
         ],
         "geo": "geo",
         "hovertemplate": "<b>%{location}</b><br>Value: %{customdata[0]} USD<extra></extra>",
         "locationmode": "country names",
         "locations": [
          "afghanistan",
          "africa eastern and southern",
          "africa western and central",
          "albania",
          "algeria",
          "american samoa",
          "andorra",
          "angola",
          "antigua and barbuda",
          "arab world",
          "argentina",
          "armenia",
          "aruba",
          "australia",
          "austria",
          "azerbaijan",
          "bahamas, the",
          "bahrain",
          "bangladesh",
          "barbados",
          "belarus",
          "belgium",
          "belize",
          "benin",
          "bermuda",
          "bhutan",
          "bolivia",
          "bosnia and herzegovina",
          "botswana",
          "brazil",
          "brunei darussalam",
          "bulgaria",
          "burkina faso",
          "burundi",
          "cabo verde",
          "cambodia",
          "cameroon",
          "canada",
          "caribbean small states",
          "cayman islands",
          "central african republic",
          "central europe and the baltics",
          "chad",
          "channel islands",
          "chile",
          "china",
          "colombia",
          "comoros",
          "congo, dem. rep.",
          "congo, rep.",
          "costa rica",
          "cote d'ivoire",
          "croatia",
          "cuba",
          "curacao",
          "cyprus",
          "czechia",
          "denmark",
          "djibouti",
          "dominica",
          "dominican republic",
          "early-demographic dividend",
          "east asia & pacific",
          "east asia & pacific (excluding high income)",
          "east asia & pacific (ida & ibrd countries)",
          "ecuador",
          "egypt, arab rep.",
          "el salvador",
          "equatorial guinea",
          "eritrea",
          "estonia",
          "eswatini",
          "ethiopia",
          "euro area",
          "europe & central asia",
          "europe & central asia (excluding high income)",
          "europe & central asia (ida & ibrd countries)",
          "european union",
          "faroe islands",
          "fiji",
          "finland",
          "fragile and conflict affected situations",
          "france",
          "french polynesia",
          "gabon",
          "gambia, the",
          "georgia",
          "germany",
          "ghana",
          "greece",
          "greenland",
          "grenada",
          "guam",
          "guatemala",
          "guinea",
          "guinea-bissau",
          "guyana",
          "haiti",
          "heavily indebted poor countries (hipc)",
          "high income",
          "honduras",
          "hong kong sar, china",
          "hungary",
          "ibrd only",
          "iceland",
          "ida & ibrd total",
          "ida blend",
          "ida only",
          "ida total",
          "india",
          "indonesia",
          "iran, islamic rep.",
          "iraq",
          "ireland",
          "isle of man",
          "israel",
          "italy",
          "jamaica",
          "japan",
          "jordan",
          "kazakhstan",
          "kenya",
          "kiribati",
          "korea, rep.",
          "kosovo",
          "kuwait",
          "kyrgyz republic",
          "lao pdr",
          "late-demographic dividend",
          "latin america & caribbean",
          "latin america & caribbean (excluding high income)",
          "latin america & the caribbean (ida & ibrd countries)",
          "latvia",
          "least developed countries: un classification",
          "lebanon",
          "lesotho",
          "liberia",
          "libya",
          "liechtenstein",
          "lithuania",
          "low & middle income",
          "low income",
          "lower middle income",
          "luxembourg",
          "macao sar, china",
          "madagascar",
          "malawi",
          "malaysia",
          "maldives",
          "mali",
          "malta",
          "marshall islands",
          "mauritania",
          "mauritius",
          "mexico",
          "micronesia, fed. sts.",
          "middle east & north africa",
          "middle east & north africa (excluding high income)",
          "middle east & north africa (ida & ibrd countries)",
          "middle income",
          "moldova",
          "monaco",
          "mongolia",
          "montenegro",
          "morocco",
          "mozambique",
          "myanmar",
          "namibia",
          "nauru",
          "nepal",
          "netherlands",
          "new caledonia",
          "new zealand",
          "nicaragua",
          "niger",
          "nigeria",
          "north america",
          "north macedonia",
          "northern mariana islands",
          "norway",
          "oecd members",
          "oman",
          "other small states",
          "pacific island small states",
          "pakistan",
          "palau",
          "panama",
          "papua new guinea",
          "paraguay",
          "peru",
          "philippines",
          "poland",
          "portugal",
          "post-demographic dividend",
          "pre-demographic dividend",
          "puerto rico",
          "qatar",
          "romania",
          "russian federation",
          "rwanda",
          "samoa",
          "san marino",
          "sao tome and principe",
          "saudi arabia",
          "senegal",
          "serbia",
          "seychelles",
          "sierra leone",
          "singapore",
          "sint maarten (dutch part)",
          "slovak republic",
          "slovenia",
          "small states",
          "solomon islands",
          "somalia",
          "south africa",
          "south asia",
          "south asia (ida & ibrd)",
          "south sudan",
          "spain",
          "sri lanka",
          "st. kitts and nevis",
          "st. lucia",
          "st. martin (french part)",
          "st. vincent and the grenadines",
          "sub-saharan africa",
          "sub-saharan africa (excluding high income)",
          "sub-saharan africa (ida & ibrd countries)",
          "sudan",
          "suriname",
          "sweden",
          "switzerland",
          "syrian arab republic",
          "tajikistan",
          "tanzania",
          "thailand",
          "timor-leste",
          "togo",
          "tonga",
          "trinidad and tobago",
          "tunisia",
          "turkiye",
          "turkmenistan",
          "turks and caicos islands",
          "tuvalu",
          "uganda",
          "ukraine",
          "united arab emirates",
          "united kingdom",
          "united states",
          "upper middle income",
          "uruguay",
          "uzbekistan",
          "vanuatu",
          "venezuela, rb",
          "viet nam",
          "virgin islands (u.s.)",
          "west bank and gaza",
          "world",
          "yemen, rep.",
          "zambia",
          "zimbabwe"
         ],
         "name": "",
         "type": "choropleth",
         "z": [
          23.716792131775,
          27.557454321218916,
          27.391680496226375,
          23.442106557510883,
          25.82844383657273,
          20.396149696636186,
          21.784868697891678,
          24.60486182415669,
          21.067420131780835,
          28.57747370086637,
          26.67843072241182,
          23.26026659829931,
          21.662845779495562,
          27.9164868928936,
          26.798725233923278,
          24.477300809339468,
          23.02166216941942,
          24.267749601211285,
          26.64746666668539,
          22.287655451399623,
          24.840215555304926,
          26.98860794899078,
          21.43999663053899,
          23.476081726610687,
          22.6529227579886,
          21.622452746183846,
          24.32412914965701,
          23.730236550266785,
          23.42866526832291,
          28.020429489329143,
          23.208655674562326,
          24.977015228832038,
          23.59824250354154,
          21.69770481398317,
          21.32296219610071,
          23.976457979316688,
          24.431291849711396,
          28.135235773332898,
          24.16937380349739,
          22.45586924870931,
          21.56772577482982,
          28.14133710330535,
          23.09494742676932,
          22.95342530596011,
          26.260766071728195,
          30.3180345315451,
          26.322977121971334,
          20.926238678480896,
          24.609293099231483,
          23.162886388549435,
          24.856760769485472,
          24.8668425736754,
          24.787517119550216,
          25.399377128722616,
          21.65319419176998,
          23.951188207977737,
          26.228493947429094,
          26.594715088463953,
          21.8817655289387,
          20.0385129570837,
          25.090745377598285,
          30.027188821686718,
          30.932636896623897,
          30.492497999513365,
          30.491264297768485,
          25.28621171230554,
          26.673433906016143,
          23.93898428257465,
          23.015175753332784,
          21.448396851260433,
          24.167855342783014,
          22.105109482015127,
          25.40222290576942,
          30.20783550791043,
          30.72915425012521,
          27.987525101516106,
          28.992202372111247,
          30.364181311399356,
          21.905620407377675,
          22.212221975100036,
          26.328648982356945,
          28.156299826763156,
          28.60460620256206,
          22.479837733411852,
          23.452070967892855,
          21.317791351483677,
          23.496533654591204,
          28.98884582565993,
          24.972376539627692,
          25.96225952691676,
          21.849131571671965,
          20.76576109840108,
          22.500926381963996,
          25.07631648146243,
          23.374945725979035,
          21.142291901935593,
          22.42277415199284,
          23.39798139594601,
          27.421978044058612,
          31.65263599103222,
          23.87395842611649,
          26.566645456605396,
          25.781350431635087,
          31.03567448695815,
          23.79734491301934,
          31.113140428343097,
          27.640444542378752,
          27.977839349439034,
          28.516451549253084,
          28.614915010097135,
          27.68839796845854,
          26.202802013930345,
          25.921203584423864,
          26.78381019003532,
          22.623016205641417,
          26.747361329497014,
          28.271538127615443,
          23.348834157329595,
          29.251515102805012,
          24.500622705590573,
          25.865410949192565,
          25.3349895590441,
          19.22256519570844,
          28.128343681508408,
          22.766710342284533,
          25.400877592999947,
          22.83595700885554,
          23.666746738947797,
          30.745921389702783,
          29.200662505586443,
          29.028953157504795,
          29.148628037972326,
          24.261058132106253,
          27.781180931439863,
          24.179965039447442,
          21.442732825615064,
          21.878928159451938,
          24.908189023594993,
          22.580480627441545,
          24.765701880487985,
          31.01513746651243,
          26.809546048508533,
          29.43632021595184,
          25.023260043176876,
          23.955789147259694,
          23.2921644017781,
          23.21160409908544,
          26.544701454266853,
          22.03499951155161,
          23.58348720366523,
          23.44784527764112,
          19.29927436630172,
          22.834781508252462,
          23.157590031510512,
          27.74509275059982,
          19.734404414925592,
          28.79388499504122,
          27.911953839720358,
          27.900156865680763,
          31.00009948158766,
          23.168282890334197,
          22.631273151804123,
          23.312005443524722,
          22.285611485034618,
          25.521974806229863,
          23.378999074289005,
          25.09279107432029,
          23.082585505212077,
          18.641306641924203,
          24.232828993016607,
          27.536483450986495,
          22.969770349385076,
          26.08313695070986,
          23.263413884548914,
          23.343915720271912,
          26.792151732355133,
          30.765885650041064,
          23.237815178243633,
          20.570114658617737,
          26.630352134306744,
          31.598533634990613,
          25.052806330024595,
          25.90608885775308,
          22.975090623649546,
          26.428466005596025,
          19.38071708687697,
          24.767839399905068,
          23.89498485739334,
          24.290886229214575,
          26.028606952899214,
          26.61422236887344,
          27.11926628119035,
          26.157126959739177,
          31.543142203230122,
          27.900730793964584,
          25.359264892095613,
          25.695931753886853,
          26.250162014390234,
          28.031859466658556,
          23.043139381231022,
          20.582736713519513,
          21.1558582401749,
          19.970855763910826,
          27.322144279609343,
          23.923183609745422,
          24.700261355432218,
          21.047196724706478,
          22.12516438372113,
          26.579736158043957,
          20.935492496497318,
          25.3936418420818,
          24.707321590050096,
          26.11264900997466,
          21.152542398917504,
          22.94291926152126,
          26.547173479443934,
          28.88181664365494,
          28.88181664365494,
          23.207989200040448,
          27.876418302384433,
          25.1576986943852,
          20.599879633950913,
          21.127280557238635,
          20.293568717280063,
          20.582981537094113,
          28.171145783254637,
          28.17033987941998,
          28.171145783254637,
          24.020383132887375,
          21.792039858365715,
          27.02781367328864,
          27.332614279583318,
          23.135233294560628,
          22.819314163435102,
          24.913961518629296,
          26.93879730589329,
          21.494585917100867,
          22.72478423760636,
          19.99924050738225,
          23.758582762963215,
          24.472577340846843,
          27.30298707483224,
          24.547942863979394,
          20.467926610425668,
          17.76186919692812,
          24.350279680934793,
          25.777073781496988,
          26.579692186286568,
          28.62346018556076,
          30.690805073384137,
          30.765207929517455,
          24.70609461884128,
          24.821348425663995,
          20.62831874017871,
          26.901955147892686,
          26.57148262156051,
          22.155727879150028,
          23.466148933731024,
          32.080446064376645,
          23.796244326897597,
          23.62126206192975,
          23.79176975907297
         ]
        }
       ],
       "layout": {
        "coloraxis": {
         "colorbar": {
          "len": 0.5,
          "thickness": 15,
          "ticktext": [
           "10.0M",
           "100.0M",
           "1.0B",
           "10.0B",
           "100.0B",
           "1.0T",
           "10.0T"
          ],
          "tickvals": [
           16.118095750958314,
           18.420680753952364,
           20.72326583794641,
           23.025850930040455,
           25.3284360229445,
           27.63102111592955,
           29.933606208922694
          ],
          "title": {
           "text": ""
          },
          "y": 0.5,
          "yanchor": "middle"
         },
         "colorscale": [
          [
           0,
           "#0d0887"
          ],
          [
           0.1111111111111111,
           "#46039f"
          ],
          [
           0.2222222222222222,
           "#7201a8"
          ],
          [
           0.3333333333333333,
           "#9c179e"
          ],
          [
           0.4444444444444444,
           "#bd3786"
          ],
          [
           0.5555555555555556,
           "#d8576b"
          ],
          [
           0.6666666666666666,
           "#ed7953"
          ],
          [
           0.7777777777777778,
           "#fb9f3a"
          ],
          [
           0.8888888888888888,
           "#fdca26"
          ],
          [
           1,
           "#f0f921"
          ]
         ]
        },
        "geo": {
         "center": {},
         "domain": {
          "x": [
           0,
           1
          ],
          "y": [
           0,
           1
          ]
         },
         "projection": {
          "type": "equirectangular"
         },
         "showcoastlines": false,
         "showframe": false
        },
        "height": 400,
        "legend": {
         "tracegroupgap": 0
        },
        "margin": {
         "b": 0,
         "l": 5,
         "r": 5,
         "t": 50
        },
        "template": {
         "data": {
          "bar": [
           {
            "error_x": {
             "color": "#2a3f5f"
            },
            "error_y": {
             "color": "#2a3f5f"
            },
            "marker": {
             "line": {
              "color": "#E5ECF6",
              "width": 0.5
             },
             "pattern": {
              "fillmode": "overlay",
              "size": 10,
              "solidity": 0.2
             }
            },
            "type": "bar"
           }
          ],
          "barpolar": [
           {
            "marker": {
             "line": {
              "color": "#E5ECF6",
              "width": 0.5
             },
             "pattern": {
              "fillmode": "overlay",
              "size": 10,
              "solidity": 0.2
             }
            },
            "type": "barpolar"
           }
          ],
          "carpet": [
           {
            "aaxis": {
             "endlinecolor": "#2a3f5f",
             "gridcolor": "white",
             "linecolor": "white",
             "minorgridcolor": "white",
             "startlinecolor": "#2a3f5f"
            },
            "baxis": {
             "endlinecolor": "#2a3f5f",
             "gridcolor": "white",
             "linecolor": "white",
             "minorgridcolor": "white",
             "startlinecolor": "#2a3f5f"
            },
            "type": "carpet"
           }
          ],
          "choropleth": [
           {
            "colorbar": {
             "outlinewidth": 0,
             "ticks": ""
            },
            "type": "choropleth"
           }
          ],
          "contour": [
           {
            "colorbar": {
             "outlinewidth": 0,
             "ticks": ""
            },
            "colorscale": [
             [
              0,
              "#0d0887"
             ],
             [
              0.1111111111111111,
              "#46039f"
             ],
             [
              0.2222222222222222,
              "#7201a8"
             ],
             [
              0.3333333333333333,
              "#9c179e"
             ],
             [
              0.4444444444444444,
              "#bd3786"
             ],
             [
              0.5555555555555556,
              "#d8576b"
             ],
             [
              0.6666666666666666,
              "#ed7953"
             ],
             [
              0.7777777777777778,
              "#fb9f3a"
             ],
             [
              0.8888888888888888,
              "#fdca26"
             ],
             [
              1,
              "#f0f921"
             ]
            ],
            "type": "contour"
           }
          ],
          "contourcarpet": [
           {
            "colorbar": {
             "outlinewidth": 0,
             "ticks": ""
            },
            "type": "contourcarpet"
           }
          ],
          "heatmap": [
           {
            "colorbar": {
             "outlinewidth": 0,
             "ticks": ""
            },
            "colorscale": [
             [
              0,
              "#0d0887"
             ],
             [
              0.1111111111111111,
              "#46039f"
             ],
             [
              0.2222222222222222,
              "#7201a8"
             ],
             [
              0.3333333333333333,
              "#9c179e"
             ],
             [
              0.4444444444444444,
              "#bd3786"
             ],
             [
              0.5555555555555556,
              "#d8576b"
             ],
             [
              0.6666666666666666,
              "#ed7953"
             ],
             [
              0.7777777777777778,
              "#fb9f3a"
             ],
             [
              0.8888888888888888,
              "#fdca26"
             ],
             [
              1,
              "#f0f921"
             ]
            ],
            "type": "heatmap"
           }
          ],
          "heatmapgl": [
           {
            "colorbar": {
             "outlinewidth": 0,
             "ticks": ""
            },
            "colorscale": [
             [
              0,
              "#0d0887"
             ],
             [
              0.1111111111111111,
              "#46039f"
             ],
             [
              0.2222222222222222,
              "#7201a8"
             ],
             [
              0.3333333333333333,
              "#9c179e"
             ],
             [
              0.4444444444444444,
              "#bd3786"
             ],
             [
              0.5555555555555556,
              "#d8576b"
             ],
             [
              0.6666666666666666,
              "#ed7953"
             ],
             [
              0.7777777777777778,
              "#fb9f3a"
             ],
             [
              0.8888888888888888,
              "#fdca26"
             ],
             [
              1,
              "#f0f921"
             ]
            ],
            "type": "heatmapgl"
           }
          ],
          "histogram": [
           {
            "marker": {
             "pattern": {
              "fillmode": "overlay",
              "size": 10,
              "solidity": 0.2
             }
            },
            "type": "histogram"
           }
          ],
          "histogram2d": [
           {
            "colorbar": {
             "outlinewidth": 0,
             "ticks": ""
            },
            "colorscale": [
             [
              0,
              "#0d0887"
             ],
             [
              0.1111111111111111,
              "#46039f"
             ],
             [
              0.2222222222222222,
              "#7201a8"
             ],
             [
              0.3333333333333333,
              "#9c179e"
             ],
             [
              0.4444444444444444,
              "#bd3786"
             ],
             [
              0.5555555555555556,
              "#d8576b"
             ],
             [
              0.6666666666666666,
              "#ed7953"
             ],
             [
              0.7777777777777778,
              "#fb9f3a"
             ],
             [
              0.8888888888888888,
              "#fdca26"
             ],
             [
              1,
              "#f0f921"
             ]
            ],
            "type": "histogram2d"
           }
          ],
          "histogram2dcontour": [
           {
            "colorbar": {
             "outlinewidth": 0,
             "ticks": ""
            },
            "colorscale": [
             [
              0,
              "#0d0887"
             ],
             [
              0.1111111111111111,
              "#46039f"
             ],
             [
              0.2222222222222222,
              "#7201a8"
             ],
             [
              0.3333333333333333,
              "#9c179e"
             ],
             [
              0.4444444444444444,
              "#bd3786"
             ],
             [
              0.5555555555555556,
              "#d8576b"
             ],
             [
              0.6666666666666666,
              "#ed7953"
             ],
             [
              0.7777777777777778,
              "#fb9f3a"
             ],
             [
              0.8888888888888888,
              "#fdca26"
             ],
             [
              1,
              "#f0f921"
             ]
            ],
            "type": "histogram2dcontour"
           }
          ],
          "mesh3d": [
           {
            "colorbar": {
             "outlinewidth": 0,
             "ticks": ""
            },
            "type": "mesh3d"
           }
          ],
          "parcoords": [
           {
            "line": {
             "colorbar": {
              "outlinewidth": 0,
              "ticks": ""
             }
            },
            "type": "parcoords"
           }
          ],
          "pie": [
           {
            "automargin": true,
            "type": "pie"
           }
          ],
          "scatter": [
           {
            "fillpattern": {
             "fillmode": "overlay",
             "size": 10,
             "solidity": 0.2
            },
            "type": "scatter"
           }
          ],
          "scatter3d": [
           {
            "line": {
             "colorbar": {
              "outlinewidth": 0,
              "ticks": ""
             }
            },
            "marker": {
             "colorbar": {
              "outlinewidth": 0,
              "ticks": ""
             }
            },
            "type": "scatter3d"
           }
          ],
          "scattercarpet": [
           {
            "marker": {
             "colorbar": {
              "outlinewidth": 0,
              "ticks": ""
             }
            },
            "type": "scattercarpet"
           }
          ],
          "scattergeo": [
           {
            "marker": {
             "colorbar": {
              "outlinewidth": 0,
              "ticks": ""
             }
            },
            "type": "scattergeo"
           }
          ],
          "scattergl": [
           {
            "marker": {
             "colorbar": {
              "outlinewidth": 0,
              "ticks": ""
             }
            },
            "type": "scattergl"
           }
          ],
          "scattermapbox": [
           {
            "marker": {
             "colorbar": {
              "outlinewidth": 0,
              "ticks": ""
             }
            },
            "type": "scattermapbox"
           }
          ],
          "scatterpolar": [
           {
            "marker": {
             "colorbar": {
              "outlinewidth": 0,
              "ticks": ""
             }
            },
            "type": "scatterpolar"
           }
          ],
          "scatterpolargl": [
           {
            "marker": {
             "colorbar": {
              "outlinewidth": 0,
              "ticks": ""
             }
            },
            "type": "scatterpolargl"
           }
          ],
          "scatterternary": [
           {
            "marker": {
             "colorbar": {
              "outlinewidth": 0,
              "ticks": ""
             }
            },
            "type": "scatterternary"
           }
          ],
          "surface": [
           {
            "colorbar": {
             "outlinewidth": 0,
             "ticks": ""
            },
            "colorscale": [
             [
              0,
              "#0d0887"
             ],
             [
              0.1111111111111111,
              "#46039f"
             ],
             [
              0.2222222222222222,
              "#7201a8"
             ],
             [
              0.3333333333333333,
              "#9c179e"
             ],
             [
              0.4444444444444444,
              "#bd3786"
             ],
             [
              0.5555555555555556,
              "#d8576b"
             ],
             [
              0.6666666666666666,
              "#ed7953"
             ],
             [
              0.7777777777777778,
              "#fb9f3a"
             ],
             [
              0.8888888888888888,
              "#fdca26"
             ],
             [
              1,
              "#f0f921"
             ]
            ],
            "type": "surface"
           }
          ],
          "table": [
           {
            "cells": {
             "fill": {
              "color": "#EBF0F8"
             },
             "line": {
              "color": "white"
             }
            },
            "header": {
             "fill": {
              "color": "#C8D4E3"
             },
             "line": {
              "color": "white"
             }
            },
            "type": "table"
           }
          ]
         },
         "layout": {
          "annotationdefaults": {
           "arrowcolor": "#2a3f5f",
           "arrowhead": 0,
           "arrowwidth": 1
          },
          "autotypenumbers": "strict",
          "coloraxis": {
           "colorbar": {
            "outlinewidth": 0,
            "ticks": ""
           }
          },
          "colorscale": {
           "diverging": [
            [
             0,
             "#8e0152"
            ],
            [
             0.1,
             "#c51b7d"
            ],
            [
             0.2,
             "#de77ae"
            ],
            [
             0.3,
             "#f1b6da"
            ],
            [
             0.4,
             "#fde0ef"
            ],
            [
             0.5,
             "#f7f7f7"
            ],
            [
             0.6,
             "#e6f5d0"
            ],
            [
             0.7,
             "#b8e186"
            ],
            [
             0.8,
             "#7fbc41"
            ],
            [
             0.9,
             "#4d9221"
            ],
            [
             1,
             "#276419"
            ]
           ],
           "sequential": [
            [
             0,
             "#0d0887"
            ],
            [
             0.1111111111111111,
             "#46039f"
            ],
            [
             0.2222222222222222,
             "#7201a8"
            ],
            [
             0.3333333333333333,
             "#9c179e"
            ],
            [
             0.4444444444444444,
             "#bd3786"
            ],
            [
             0.5555555555555556,
             "#d8576b"
            ],
            [
             0.6666666666666666,
             "#ed7953"
            ],
            [
             0.7777777777777778,
             "#fb9f3a"
            ],
            [
             0.8888888888888888,
             "#fdca26"
            ],
            [
             1,
             "#f0f921"
            ]
           ],
           "sequentialminus": [
            [
             0,
             "#0d0887"
            ],
            [
             0.1111111111111111,
             "#46039f"
            ],
            [
             0.2222222222222222,
             "#7201a8"
            ],
            [
             0.3333333333333333,
             "#9c179e"
            ],
            [
             0.4444444444444444,
             "#bd3786"
            ],
            [
             0.5555555555555556,
             "#d8576b"
            ],
            [
             0.6666666666666666,
             "#ed7953"
            ],
            [
             0.7777777777777778,
             "#fb9f3a"
            ],
            [
             0.8888888888888888,
             "#fdca26"
            ],
            [
             1,
             "#f0f921"
            ]
           ]
          },
          "colorway": [
           "#636efa",
           "#EF553B",
           "#00cc96",
           "#ab63fa",
           "#FFA15A",
           "#19d3f3",
           "#FF6692",
           "#B6E880",
           "#FF97FF",
           "#FECB52"
          ],
          "font": {
           "color": "#2a3f5f"
          },
          "geo": {
           "bgcolor": "white",
           "lakecolor": "white",
           "landcolor": "#E5ECF6",
           "showlakes": true,
           "showland": true,
           "subunitcolor": "white"
          },
          "hoverlabel": {
           "align": "left"
          },
          "hovermode": "closest",
          "mapbox": {
           "style": "light"
          },
          "paper_bgcolor": "white",
          "plot_bgcolor": "#E5ECF6",
          "polar": {
           "angularaxis": {
            "gridcolor": "white",
            "linecolor": "white",
            "ticks": ""
           },
           "bgcolor": "#E5ECF6",
           "radialaxis": {
            "gridcolor": "white",
            "linecolor": "white",
            "ticks": ""
           }
          },
          "scene": {
           "xaxis": {
            "backgroundcolor": "#E5ECF6",
            "gridcolor": "white",
            "gridwidth": 2,
            "linecolor": "white",
            "showbackground": true,
            "ticks": "",
            "zerolinecolor": "white"
           },
           "yaxis": {
            "backgroundcolor": "#E5ECF6",
            "gridcolor": "white",
            "gridwidth": 2,
            "linecolor": "white",
            "showbackground": true,
            "ticks": "",
            "zerolinecolor": "white"
           },
           "zaxis": {
            "backgroundcolor": "#E5ECF6",
            "gridcolor": "white",
            "gridwidth": 2,
            "linecolor": "white",
            "showbackground": true,
            "ticks": "",
            "zerolinecolor": "white"
           }
          },
          "shapedefaults": {
           "line": {
            "color": "#2a3f5f"
           }
          },
          "ternary": {
           "aaxis": {
            "gridcolor": "white",
            "linecolor": "white",
            "ticks": ""
           },
           "baxis": {
            "gridcolor": "white",
            "linecolor": "white",
            "ticks": ""
           },
           "bgcolor": "#E5ECF6",
           "caxis": {
            "gridcolor": "white",
            "linecolor": "white",
            "ticks": ""
           }
          },
          "title": {
           "x": 0.05
          },
          "xaxis": {
           "automargin": true,
           "gridcolor": "white",
           "linecolor": "white",
           "ticks": "",
           "title": {
            "standoff": 15
           },
           "zerolinecolor": "white",
           "zerolinewidth": 2
          },
          "yaxis": {
           "automargin": true,
           "gridcolor": "white",
           "linecolor": "white",
           "ticks": "",
           "title": {
            "standoff": 15
           },
           "zerolinecolor": "white",
           "zerolinewidth": 2
          }
         }
        },
        "title": {
         "text": "GDP Current USD (USD)"
        },
        "width": 600
       }
      }
     },
     "metadata": {},
     "output_type": "display_data"
    }
   ],
   "source": [
    "import pandas as pd\n",
    "import plotly.express as px\n",
    "import json\n",
    "import numpy as np\n",
    "import os\n",
    "\n",
    "def load_json(filepath):\n",
    "    with open(filepath, 'r') as file:\n",
    "        return json.load(file)\n",
    "\n",
    "def normalize_country_name(country, standardization):\n",
    "    for standard_name, variants in standardization['countries'].items():\n",
    "        if country.lower() in [v.lower() for v in variants]:\n",
    "            return standard_name\n",
    "    return country.lower()\n",
    "\n",
    "def load_and_prepare_data(metadata_path, data_path, indicators_path):\n",
    "    standardization = load_json(metadata_path)\n",
    "    indicators = load_json(indicators_path)\n",
    "    data_dict = {}\n",
    "\n",
    "    for category, indicator_dict in indicators.items():\n",
    "        for indicator, details in indicator_dict.items():\n",
    "            csv_file = f\"{data_path}/{category}/{indicator}_world_bank.csv\"\n",
    "            if os.path.exists(csv_file):\n",
    "                df = pd.read_csv(csv_file, index_col='date', parse_dates=True)\n",
    "                df.columns = [normalize_country_name(col, standardization) for col in df.columns]\n",
    "                df = df.interpolate(method='linear', axis=0)  # Linear interpolation\n",
    "                data_dict[indicator] = df\n",
    "    \n",
    "    return data_dict, indicators\n",
    "\n",
    "def format_value(value):\n",
    "    \"\"\"Format value with appropriate scale and unit\"\"\"\n",
    "    if value >= 1_000_000_000_000:\n",
    "        return f\"{round(value / 1_000_000_000_000, 1)}T\"\n",
    "    elif value >= 1_000_000_000:\n",
    "        return f\"{round(value / 1_000_000_000, 1)}B\"\n",
    "    elif value >= 1_000_000:\n",
    "        return f\"{round(value / 1_000_000, 1)}M\"\n",
    "    elif value >= 1_000:\n",
    "        return f\"{round(value / 1_000, 1)}K\"\n",
    "    else:\n",
    "        return f\"{round(value, 1):.0f}\"\n",
    "\n",
    "def plot_indicator_map(data_dict, indicators, indicator, date, log=False, unit_measure=\"\"):\n",
    "    if indicator not in data_dict:\n",
    "        print(f\"Indicator {indicator} not found in the data dictionary.\")\n",
    "        return\n",
    "    \n",
    "    df = data_dict[indicator]\n",
    "    if date not in df.index:\n",
    "        print(f\"Date {date} not found in the data for indicator {indicator}.\")\n",
    "        return\n",
    "    \n",
    "    date_str = pd.to_datetime(date).strftime('%Y-%m-%d')\n",
    "    data_at_date = df.loc[date].reset_index()\n",
    "    data_at_date.columns = ['country', 'value']\n",
    "\n",
    "    # Apply logarithmic transformation if specified\n",
    "    if log:\n",
    "        data_at_date['log_value'] = np.log1p(data_at_date['value'])\n",
    "        value_column = 'log_value'\n",
    "        tickvals = [np.log1p(10**i) for i in range(int(np.log10(data_at_date['value'].min())), int(np.log10(data_at_date['value'].max()))+1)]\n",
    "        ticktext = [format_value(10**i) for i in range(int(np.log10(data_at_date['value'].min())), int(np.log10(data_at_date['value'].max()))+1)]\n",
    "    else:\n",
    "        value_column = 'value'\n",
    "        tickvals = data_at_date['value']\n",
    "        ticktext = data_at_date['value'].apply(format_value)\n",
    "    \n",
    "    # Get the title for the indicator\n",
    "    title = None\n",
    "    for category, indicator_dict in indicators.items():\n",
    "        if indicator in indicator_dict:\n",
    "            title = indicator_dict[indicator]['title']\n",
    "            break\n",
    "\n",
    "    if not title:\n",
    "        title = indicator.capitalize()\n",
    "    \n",
    "    # Format values for hover data\n",
    "    data_at_date['formatted_value'] = data_at_date['value'].apply(format_value)\n",
    "    \n",
    "    fig = px.choropleth(\n",
    "        data_at_date,\n",
    "        locations='country',\n",
    "        locationmode='country names',\n",
    "        color=value_column,\n",
    "        custom_data=['formatted_value'],  # Include the formatted value for hover data\n",
    "        color_continuous_scale=px.colors.sequential.Plasma,\n",
    "        labels={value_column: ''},  # Exclude the label of the color bar\n",
    "        title=f'{title} ({unit_measure})' if unit_measure else f'{title}'\n",
    "    )\n",
    "    \n",
    "    fig.update_layout(\n",
    "        geo=dict(\n",
    "            showframe=False,\n",
    "            showcoastlines=False,\n",
    "            projection_type='equirectangular'\n",
    "        ),\n",
    "        margin={\"r\":5,\"t\":50,\"l\":5,\"b\":0},\n",
    "        height=400,\n",
    "        width=600,\n",
    "        coloraxis_colorbar=dict(\n",
    "            thickness=15,\n",
    "            len=0.5,\n",
    "            yanchor=\"middle\",\n",
    "            y=0.5,\n",
    "            tickvals=tickvals,\n",
    "            ticktext=ticktext\n",
    "        )\n",
    "    )\n",
    "    \n",
    "    # Update hover template to show absolute value and unit measure\n",
    "    fig.update_traces(\n",
    "        hovertemplate=\"<b>%{location}</b><br>Value: %{customdata[0]} \" + unit_measure + \"<extra></extra>\"\n",
    "    )\n",
    "    \n",
    "    fig.show()\n",
    "\n",
    "if __name__ == \"__main__\":\n",
    "    # Load data\n",
    "    metadata_path = 'standardization.json'\n",
    "    indicators_path = 'indicators.json'\n",
    "    data_path = 'data'\n",
    "    data_dict, indicators = load_and_prepare_data(metadata_path, data_path, indicators_path)\n",
    "\n",
    "    # Plot indicator map\n",
    "    plot_indicator_map(data_dict, indicators, 'gdp_current_usd', '2020-01-01', log=True, unit_measure=\"USD\")\n"
   ]
  },
  {
   "cell_type": "code",
   "execution_count": 5,
   "metadata": {},
   "outputs": [
    {
     "data": {
      "application/vnd.plotly.v1+json": {
       "config": {
        "plotlyServerURL": "https://plot.ly"
       },
       "data": [
        {
         "customdata": [
          [
           "nan"
          ],
          [
           "nan"
          ],
          [
           "nan"
          ],
          [
           "nan"
          ],
          [
           "nan"
          ],
          [
           "nan"
          ],
          [
           "nan"
          ],
          [
           "nan"
          ],
          [
           "nan"
          ],
          [
           "nan"
          ],
          [
           "nan"
          ],
          [
           "nan"
          ],
          [
           "nan"
          ],
          [
           "nan"
          ],
          [
           "nan"
          ],
          [
           "nan"
          ],
          [
           "nan"
          ],
          [
           "nan"
          ],
          [
           "nan"
          ],
          [
           "nan"
          ],
          [
           "nan"
          ],
          [
           "nan"
          ],
          [
           "nan"
          ],
          [
           "nan"
          ],
          [
           "nan"
          ],
          [
           "nan"
          ],
          [
           "nan"
          ],
          [
           "nan"
          ],
          [
           "nan"
          ],
          [
           "425.6B"
          ],
          [
           "385.0B"
          ],
          [
           "342.5B"
          ],
          [
           "328.2B"
          ],
          [
           "368.3B"
          ],
          [
           "525.4B"
          ],
          [
           "769.3B"
          ],
          [
           "850.4B"
          ],
          [
           "883.2B"
          ],
          [
           "863.7B"
          ],
          [
           "599.6B"
          ],
          [
           "655.4B"
          ],
          [
           "560.0B"
          ],
          [
           "509.8B"
          ],
          [
           "558.2B"
          ],
          [
           "669.3B"
          ],
          [
           "891.6B"
          ],
          [
           "1.1T"
          ],
          [
           "1.4T"
          ],
          [
           "1.7T"
          ],
          [
           "1.7T"
          ],
          [
           "2.2T"
          ],
          [
           "2.6T"
          ],
          [
           "2.5T"
          ],
          [
           "2.5T"
          ],
          [
           "2.5T"
          ],
          [
           "1.8T"
          ],
          [
           "1.8T"
          ],
          [
           "2.1T"
          ],
          [
           "1.9T"
          ],
          [
           "1.9T"
          ],
          [
           "1.5T"
          ],
          [
           "1.7T"
          ],
          [
           "2.0T"
          ],
          [
           "2.2T"
          ]
         ],
         "hovertemplate": "<b>%{fullData.name}</b><br>Date: %{x}<br>Value: %{customdata[0]} USD<extra></extra>",
         "legendgroup": "brazil, Latin America",
         "line": {
          "color": "#636efa",
          "dash": "solid"
         },
         "marker": {
          "symbol": "circle"
         },
         "mode": "lines",
         "name": "brazil, Latin America",
         "orientation": "v",
         "showlegend": true,
         "type": "scatter",
         "x": [
          "1960-01-01T00:00:00",
          "1961-01-01T00:00:00",
          "1962-01-01T00:00:00",
          "1963-01-01T00:00:00",
          "1964-01-01T00:00:00",
          "1965-01-01T00:00:00",
          "1966-01-01T00:00:00",
          "1967-01-01T00:00:00",
          "1968-01-01T00:00:00",
          "1969-01-01T00:00:00",
          "1970-01-01T00:00:00",
          "1971-01-01T00:00:00",
          "1972-01-01T00:00:00",
          "1973-01-01T00:00:00",
          "1974-01-01T00:00:00",
          "1975-01-01T00:00:00",
          "1976-01-01T00:00:00",
          "1977-01-01T00:00:00",
          "1978-01-01T00:00:00",
          "1979-01-01T00:00:00",
          "1980-01-01T00:00:00",
          "1981-01-01T00:00:00",
          "1982-01-01T00:00:00",
          "1983-01-01T00:00:00",
          "1984-01-01T00:00:00",
          "1985-01-01T00:00:00",
          "1986-01-01T00:00:00",
          "1987-01-01T00:00:00",
          "1988-01-01T00:00:00",
          "1989-01-01T00:00:00",
          "1990-01-01T00:00:00",
          "1991-01-01T00:00:00",
          "1992-01-01T00:00:00",
          "1993-01-01T00:00:00",
          "1994-01-01T00:00:00",
          "1995-01-01T00:00:00",
          "1996-01-01T00:00:00",
          "1997-01-01T00:00:00",
          "1998-01-01T00:00:00",
          "1999-01-01T00:00:00",
          "2000-01-01T00:00:00",
          "2001-01-01T00:00:00",
          "2002-01-01T00:00:00",
          "2003-01-01T00:00:00",
          "2004-01-01T00:00:00",
          "2005-01-01T00:00:00",
          "2006-01-01T00:00:00",
          "2007-01-01T00:00:00",
          "2008-01-01T00:00:00",
          "2009-01-01T00:00:00",
          "2010-01-01T00:00:00",
          "2011-01-01T00:00:00",
          "2012-01-01T00:00:00",
          "2013-01-01T00:00:00",
          "2014-01-01T00:00:00",
          "2015-01-01T00:00:00",
          "2016-01-01T00:00:00",
          "2017-01-01T00:00:00",
          "2018-01-01T00:00:00",
          "2019-01-01T00:00:00",
          "2020-01-01T00:00:00",
          "2021-01-01T00:00:00",
          "2022-01-01T00:00:00",
          "2023-01-01T00:00:00"
         ],
         "xaxis": "x",
         "y": [
          null,
          null,
          null,
          null,
          null,
          null,
          null,
          null,
          null,
          null,
          null,
          null,
          null,
          null,
          null,
          null,
          null,
          null,
          null,
          null,
          null,
          null,
          null,
          null,
          null,
          null,
          null,
          null,
          null,
          425595310393.455,
          384959818181.817,
          342534090909.091,
          328191909882.232,
          368292034380.96,
          525369467295.737,
          769333050986.905,
          850426432991.742,
          883206179730.462,
          863710759256.435,
          599642024319.531,
          655448231983.527,
          559983634798.981,
          509795273806.715,
          558233745651.874,
          669289424806.307,
          891633839853.105,
          1107626541710.74,
          1397114486471.38,
          1695855083552.05,
          1666996438681.46,
          2208837745214.23,
          2616156223977.47,
          2465227803011.57,
          2472819535742.73,
          2456043727198.85,
          1802212206904.68,
          1795693482652.52,
          2063514977334.32,
          1916933898038.36,
          1873288205186.45,
          1476107231194.11,
          1670647399034.67,
          1951923942083.32,
          2173665655937.27
         ],
         "yaxis": "y"
        },
        {
         "customdata": [
          [
           "59.7B"
          ],
          [
           "50.1B"
          ],
          [
           "47.2B"
          ],
          [
           "50.7B"
          ],
          [
           "59.7B"
          ],
          [
           "70.4B"
          ],
          [
           "76.7B"
          ],
          [
           "72.9B"
          ],
          [
           "70.8B"
          ],
          [
           "79.7B"
          ],
          [
           "92.6B"
          ],
          [
           "99.8B"
          ],
          [
           "113.7B"
          ],
          [
           "138.5B"
          ],
          [
           "144.2B"
          ],
          [
           "163.4B"
          ],
          [
           "153.9B"
          ],
          [
           "174.9B"
          ],
          [
           "149.5B"
          ],
          [
           "178.3B"
          ],
          [
           "191.1B"
          ],
          [
           "195.9B"
          ],
          [
           "205.1B"
          ],
          [
           "230.7B"
          ],
          [
           "259.9B"
          ],
          [
           "309.5B"
          ],
          [
           "300.8B"
          ],
          [
           "273.0B"
          ],
          [
           "312.4B"
          ],
          [
           "347.8B"
          ],
          [
           "360.9B"
          ],
          [
           "383.4B"
          ],
          [
           "426.9B"
          ],
          [
           "444.7B"
          ],
          [
           "564.3B"
          ],
          [
           "734.5B"
          ],
          [
           "863.7B"
          ],
          [
           "961.6B"
          ],
          [
           "1.0T"
          ],
          [
           "1.1T"
          ],
          [
           "1.2T"
          ],
          [
           "1.3T"
          ],
          [
           "1.5T"
          ],
          [
           "1.7T"
          ],
          [
           "2.0T"
          ],
          [
           "2.3T"
          ],
          [
           "2.8T"
          ],
          [
           "3.6T"
          ],
          [
           "4.6T"
          ],
          [
           "5.1T"
          ],
          [
           "6.1T"
          ],
          [
           "7.6T"
          ],
          [
           "8.5T"
          ],
          [
           "9.6T"
          ],
          [
           "10.5T"
          ],
          [
           "11.1T"
          ],
          [
           "11.2T"
          ],
          [
           "12.3T"
          ],
          [
           "13.9T"
          ],
          [
           "14.3T"
          ],
          [
           "14.7T"
          ],
          [
           "17.8T"
          ],
          [
           "17.9T"
          ],
          [
           "17.8T"
          ]
         ],
         "hovertemplate": "<b>%{fullData.name}</b><br>Date: %{x}<br>Value: %{customdata[0]} USD<extra></extra>",
         "legendgroup": "china, East Asia",
         "line": {
          "color": "#EF553B",
          "dash": "dot"
         },
         "marker": {
          "symbol": "circle"
         },
         "mode": "lines",
         "name": "china, East Asia",
         "orientation": "v",
         "showlegend": true,
         "type": "scatter",
         "x": [
          "1960-01-01T00:00:00",
          "1961-01-01T00:00:00",
          "1962-01-01T00:00:00",
          "1963-01-01T00:00:00",
          "1964-01-01T00:00:00",
          "1965-01-01T00:00:00",
          "1966-01-01T00:00:00",
          "1967-01-01T00:00:00",
          "1968-01-01T00:00:00",
          "1969-01-01T00:00:00",
          "1970-01-01T00:00:00",
          "1971-01-01T00:00:00",
          "1972-01-01T00:00:00",
          "1973-01-01T00:00:00",
          "1974-01-01T00:00:00",
          "1975-01-01T00:00:00",
          "1976-01-01T00:00:00",
          "1977-01-01T00:00:00",
          "1978-01-01T00:00:00",
          "1979-01-01T00:00:00",
          "1980-01-01T00:00:00",
          "1981-01-01T00:00:00",
          "1982-01-01T00:00:00",
          "1983-01-01T00:00:00",
          "1984-01-01T00:00:00",
          "1985-01-01T00:00:00",
          "1986-01-01T00:00:00",
          "1987-01-01T00:00:00",
          "1988-01-01T00:00:00",
          "1989-01-01T00:00:00",
          "1990-01-01T00:00:00",
          "1991-01-01T00:00:00",
          "1992-01-01T00:00:00",
          "1993-01-01T00:00:00",
          "1994-01-01T00:00:00",
          "1995-01-01T00:00:00",
          "1996-01-01T00:00:00",
          "1997-01-01T00:00:00",
          "1998-01-01T00:00:00",
          "1999-01-01T00:00:00",
          "2000-01-01T00:00:00",
          "2001-01-01T00:00:00",
          "2002-01-01T00:00:00",
          "2003-01-01T00:00:00",
          "2004-01-01T00:00:00",
          "2005-01-01T00:00:00",
          "2006-01-01T00:00:00",
          "2007-01-01T00:00:00",
          "2008-01-01T00:00:00",
          "2009-01-01T00:00:00",
          "2010-01-01T00:00:00",
          "2011-01-01T00:00:00",
          "2012-01-01T00:00:00",
          "2013-01-01T00:00:00",
          "2014-01-01T00:00:00",
          "2015-01-01T00:00:00",
          "2016-01-01T00:00:00",
          "2017-01-01T00:00:00",
          "2018-01-01T00:00:00",
          "2019-01-01T00:00:00",
          "2020-01-01T00:00:00",
          "2021-01-01T00:00:00",
          "2022-01-01T00:00:00",
          "2023-01-01T00:00:00"
         ],
         "xaxis": "x",
         "y": [
          59716249310.9742,
          50056685957.359,
          47209186415.3555,
          50706614526.1472,
          59708125203.8643,
          70436008642.4251,
          76720005491.8964,
          72881364882.4909,
          70846276051.4727,
          79705614854.7674,
          92602634891.6589,
          99800593790.9886,
          113689308020.343,
          138543170458.064,
          144188970821.072,
          163429530659.638,
          153939265947.775,
          174935933078.663,
          149540752829.268,
          178280594413.043,
          191149211575,
          195866382432.54,
          205089699858.779,
          230686747153.257,
          259946510957.143,
          309488028132.653,
          300758100107.246,
          272972974764.574,
          312353631207.819,
          347768051311.741,
          360857912565.966,
          383373318083.624,
          426915712715.856,
          444731282435.515,
          564321854521.013,
          734484834573.582,
          863749314718.538,
          961601980984.623,
          1029060747620.65,
          1094003874937.34,
          1211331651866.09,
          1339400897105.11,
          1470557654799.95,
          1660280543846.79,
          1955346768721.39,
          2285961149879.85,
          2752118657184.02,
          3550327802998.4,
          4594336785737.67,
          5101691124285.21,
          6087191746679.49,
          7551545703440.75,
          8532185381680.59,
          9570471111831.68,
          10475624944355.2,
          11061572618578.7,
          11233313730348.7,
          12310491333980.9,
          13894907857880.6,
          14279968506271.7,
          14687744162801,
          17820459508852.2,
          17881783387000.9,
          17794781986104.5
         ],
         "yaxis": "y"
        },
        {
         "customdata": [
          [
           "542.0B"
          ],
          [
           "561.9B"
          ],
          [
           "603.6B"
          ],
          [
           "637.1B"
          ],
          [
           "684.1B"
          ],
          [
           "741.9B"
          ],
          [
           "813.0B"
          ],
          [
           "859.6B"
          ],
          [
           "940.2B"
          ],
          [
           "1.0T"
          ],
          [
           "1.1T"
          ],
          [
           "1.2T"
          ],
          [
           "1.3T"
          ],
          [
           "1.4T"
          ],
          [
           "1.5T"
          ],
          [
           "1.7T"
          ],
          [
           "1.9T"
          ],
          [
           "2.1T"
          ],
          [
           "2.4T"
          ],
          [
           "2.6T"
          ],
          [
           "2.9T"
          ],
          [
           "3.2T"
          ],
          [
           "3.3T"
          ],
          [
           "3.6T"
          ],
          [
           "4.0T"
          ],
          [
           "4.3T"
          ],
          [
           "4.6T"
          ],
          [
           "4.9T"
          ],
          [
           "5.2T"
          ],
          [
           "5.6T"
          ],
          [
           "6.0T"
          ],
          [
           "6.2T"
          ],
          [
           "6.5T"
          ],
          [
           "6.9T"
          ],
          [
           "7.3T"
          ],
          [
           "7.6T"
          ],
          [
           "8.1T"
          ],
          [
           "8.6T"
          ],
          [
           "9.1T"
          ],
          [
           "9.6T"
          ],
          [
           "10.3T"
          ],
          [
           "10.6T"
          ],
          [
           "10.9T"
          ],
          [
           "11.5T"
          ],
          [
           "12.2T"
          ],
          [
           "13.0T"
          ],
          [
           "13.8T"
          ],
          [
           "14.5T"
          ],
          [
           "14.8T"
          ],
          [
           "14.5T"
          ],
          [
           "15.0T"
          ],
          [
           "15.6T"
          ],
          [
           "16.3T"
          ],
          [
           "16.9T"
          ],
          [
           "17.6T"
          ],
          [
           "18.3T"
          ],
          [
           "18.8T"
          ],
          [
           "19.6T"
          ],
          [
           "20.7T"
          ],
          [
           "21.5T"
          ],
          [
           "21.3T"
          ],
          [
           "23.6T"
          ],
          [
           "25.7T"
          ],
          [
           "27.4T"
          ]
         ],
         "hovertemplate": "<b>%{fullData.name}</b><br>Date: %{x}<br>Value: %{customdata[0]} USD<extra></extra>",
         "legendgroup": "united_states, Western offshoot",
         "line": {
          "color": "#00cc96",
          "dash": "dash"
         },
         "marker": {
          "symbol": "circle"
         },
         "mode": "lines",
         "name": "united_states, Western offshoot",
         "orientation": "v",
         "showlegend": true,
         "type": "scatter",
         "x": [
          "1960-01-01T00:00:00",
          "1961-01-01T00:00:00",
          "1962-01-01T00:00:00",
          "1963-01-01T00:00:00",
          "1964-01-01T00:00:00",
          "1965-01-01T00:00:00",
          "1966-01-01T00:00:00",
          "1967-01-01T00:00:00",
          "1968-01-01T00:00:00",
          "1969-01-01T00:00:00",
          "1970-01-01T00:00:00",
          "1971-01-01T00:00:00",
          "1972-01-01T00:00:00",
          "1973-01-01T00:00:00",
          "1974-01-01T00:00:00",
          "1975-01-01T00:00:00",
          "1976-01-01T00:00:00",
          "1977-01-01T00:00:00",
          "1978-01-01T00:00:00",
          "1979-01-01T00:00:00",
          "1980-01-01T00:00:00",
          "1981-01-01T00:00:00",
          "1982-01-01T00:00:00",
          "1983-01-01T00:00:00",
          "1984-01-01T00:00:00",
          "1985-01-01T00:00:00",
          "1986-01-01T00:00:00",
          "1987-01-01T00:00:00",
          "1988-01-01T00:00:00",
          "1989-01-01T00:00:00",
          "1990-01-01T00:00:00",
          "1991-01-01T00:00:00",
          "1992-01-01T00:00:00",
          "1993-01-01T00:00:00",
          "1994-01-01T00:00:00",
          "1995-01-01T00:00:00",
          "1996-01-01T00:00:00",
          "1997-01-01T00:00:00",
          "1998-01-01T00:00:00",
          "1999-01-01T00:00:00",
          "2000-01-01T00:00:00",
          "2001-01-01T00:00:00",
          "2002-01-01T00:00:00",
          "2003-01-01T00:00:00",
          "2004-01-01T00:00:00",
          "2005-01-01T00:00:00",
          "2006-01-01T00:00:00",
          "2007-01-01T00:00:00",
          "2008-01-01T00:00:00",
          "2009-01-01T00:00:00",
          "2010-01-01T00:00:00",
          "2011-01-01T00:00:00",
          "2012-01-01T00:00:00",
          "2013-01-01T00:00:00",
          "2014-01-01T00:00:00",
          "2015-01-01T00:00:00",
          "2016-01-01T00:00:00",
          "2017-01-01T00:00:00",
          "2018-01-01T00:00:00",
          "2019-01-01T00:00:00",
          "2020-01-01T00:00:00",
          "2021-01-01T00:00:00",
          "2022-01-01T00:00:00",
          "2023-01-01T00:00:00"
         ],
         "xaxis": "x",
         "y": [
          541988586206.897,
          561940310344.828,
          603639413793.103,
          637058551724.138,
          684144620689.655,
          741904862068.965,
          813032758620.69,
          859620034482.759,
          940225000000,
          1017438172413.79,
          1073303000000,
          1164850000000,
          1279110000000,
          1425376000000,
          1545243000000,
          1684904000000,
          1873412000000,
          2081826000000,
          2351599000000,
          2627333000000,
          2857307000000,
          3207041000000,
          3343789000000,
          3634038000000,
          4037613000000,
          4338979000000,
          4579631000000,
          4855215000000,
          5236438000000,
          5641580000000,
          5963144000000,
          6158129000000,
          6520327000000,
          6858559000000,
          7287236000000,
          7639749000000,
          8073122000000,
          8577552000000,
          9062817000000,
          9631172000000,
          10250952000000,
          10581929000000,
          10929108000000,
          11456450000000,
          12217196000000,
          13039197000000,
          13815583000000,
          14474228000000,
          14769862000000,
          14478067000000,
          15048971000000,
          15599732000000,
          16253970000000,
          16880683000000,
          17608138000000,
          18295019000000,
          18804913000000,
          19612102000000,
          20656516000000,
          21521395000000,
          21322950000000,
          23594031000000,
          25744108000000,
          27360935000000
         ],
         "yaxis": "y"
        }
       ],
       "layout": {
        "legend": {
         "title": {
          "text": "country, Category"
         },
         "tracegroupgap": 0
        },
        "template": {
         "data": {
          "bar": [
           {
            "error_x": {
             "color": "#2a3f5f"
            },
            "error_y": {
             "color": "#2a3f5f"
            },
            "marker": {
             "line": {
              "color": "#E5ECF6",
              "width": 0.5
             },
             "pattern": {
              "fillmode": "overlay",
              "size": 10,
              "solidity": 0.2
             }
            },
            "type": "bar"
           }
          ],
          "barpolar": [
           {
            "marker": {
             "line": {
              "color": "#E5ECF6",
              "width": 0.5
             },
             "pattern": {
              "fillmode": "overlay",
              "size": 10,
              "solidity": 0.2
             }
            },
            "type": "barpolar"
           }
          ],
          "carpet": [
           {
            "aaxis": {
             "endlinecolor": "#2a3f5f",
             "gridcolor": "white",
             "linecolor": "white",
             "minorgridcolor": "white",
             "startlinecolor": "#2a3f5f"
            },
            "baxis": {
             "endlinecolor": "#2a3f5f",
             "gridcolor": "white",
             "linecolor": "white",
             "minorgridcolor": "white",
             "startlinecolor": "#2a3f5f"
            },
            "type": "carpet"
           }
          ],
          "choropleth": [
           {
            "colorbar": {
             "outlinewidth": 0,
             "ticks": ""
            },
            "type": "choropleth"
           }
          ],
          "contour": [
           {
            "colorbar": {
             "outlinewidth": 0,
             "ticks": ""
            },
            "colorscale": [
             [
              0,
              "#0d0887"
             ],
             [
              0.1111111111111111,
              "#46039f"
             ],
             [
              0.2222222222222222,
              "#7201a8"
             ],
             [
              0.3333333333333333,
              "#9c179e"
             ],
             [
              0.4444444444444444,
              "#bd3786"
             ],
             [
              0.5555555555555556,
              "#d8576b"
             ],
             [
              0.6666666666666666,
              "#ed7953"
             ],
             [
              0.7777777777777778,
              "#fb9f3a"
             ],
             [
              0.8888888888888888,
              "#fdca26"
             ],
             [
              1,
              "#f0f921"
             ]
            ],
            "type": "contour"
           }
          ],
          "contourcarpet": [
           {
            "colorbar": {
             "outlinewidth": 0,
             "ticks": ""
            },
            "type": "contourcarpet"
           }
          ],
          "heatmap": [
           {
            "colorbar": {
             "outlinewidth": 0,
             "ticks": ""
            },
            "colorscale": [
             [
              0,
              "#0d0887"
             ],
             [
              0.1111111111111111,
              "#46039f"
             ],
             [
              0.2222222222222222,
              "#7201a8"
             ],
             [
              0.3333333333333333,
              "#9c179e"
             ],
             [
              0.4444444444444444,
              "#bd3786"
             ],
             [
              0.5555555555555556,
              "#d8576b"
             ],
             [
              0.6666666666666666,
              "#ed7953"
             ],
             [
              0.7777777777777778,
              "#fb9f3a"
             ],
             [
              0.8888888888888888,
              "#fdca26"
             ],
             [
              1,
              "#f0f921"
             ]
            ],
            "type": "heatmap"
           }
          ],
          "heatmapgl": [
           {
            "colorbar": {
             "outlinewidth": 0,
             "ticks": ""
            },
            "colorscale": [
             [
              0,
              "#0d0887"
             ],
             [
              0.1111111111111111,
              "#46039f"
             ],
             [
              0.2222222222222222,
              "#7201a8"
             ],
             [
              0.3333333333333333,
              "#9c179e"
             ],
             [
              0.4444444444444444,
              "#bd3786"
             ],
             [
              0.5555555555555556,
              "#d8576b"
             ],
             [
              0.6666666666666666,
              "#ed7953"
             ],
             [
              0.7777777777777778,
              "#fb9f3a"
             ],
             [
              0.8888888888888888,
              "#fdca26"
             ],
             [
              1,
              "#f0f921"
             ]
            ],
            "type": "heatmapgl"
           }
          ],
          "histogram": [
           {
            "marker": {
             "pattern": {
              "fillmode": "overlay",
              "size": 10,
              "solidity": 0.2
             }
            },
            "type": "histogram"
           }
          ],
          "histogram2d": [
           {
            "colorbar": {
             "outlinewidth": 0,
             "ticks": ""
            },
            "colorscale": [
             [
              0,
              "#0d0887"
             ],
             [
              0.1111111111111111,
              "#46039f"
             ],
             [
              0.2222222222222222,
              "#7201a8"
             ],
             [
              0.3333333333333333,
              "#9c179e"
             ],
             [
              0.4444444444444444,
              "#bd3786"
             ],
             [
              0.5555555555555556,
              "#d8576b"
             ],
             [
              0.6666666666666666,
              "#ed7953"
             ],
             [
              0.7777777777777778,
              "#fb9f3a"
             ],
             [
              0.8888888888888888,
              "#fdca26"
             ],
             [
              1,
              "#f0f921"
             ]
            ],
            "type": "histogram2d"
           }
          ],
          "histogram2dcontour": [
           {
            "colorbar": {
             "outlinewidth": 0,
             "ticks": ""
            },
            "colorscale": [
             [
              0,
              "#0d0887"
             ],
             [
              0.1111111111111111,
              "#46039f"
             ],
             [
              0.2222222222222222,
              "#7201a8"
             ],
             [
              0.3333333333333333,
              "#9c179e"
             ],
             [
              0.4444444444444444,
              "#bd3786"
             ],
             [
              0.5555555555555556,
              "#d8576b"
             ],
             [
              0.6666666666666666,
              "#ed7953"
             ],
             [
              0.7777777777777778,
              "#fb9f3a"
             ],
             [
              0.8888888888888888,
              "#fdca26"
             ],
             [
              1,
              "#f0f921"
             ]
            ],
            "type": "histogram2dcontour"
           }
          ],
          "mesh3d": [
           {
            "colorbar": {
             "outlinewidth": 0,
             "ticks": ""
            },
            "type": "mesh3d"
           }
          ],
          "parcoords": [
           {
            "line": {
             "colorbar": {
              "outlinewidth": 0,
              "ticks": ""
             }
            },
            "type": "parcoords"
           }
          ],
          "pie": [
           {
            "automargin": true,
            "type": "pie"
           }
          ],
          "scatter": [
           {
            "fillpattern": {
             "fillmode": "overlay",
             "size": 10,
             "solidity": 0.2
            },
            "type": "scatter"
           }
          ],
          "scatter3d": [
           {
            "line": {
             "colorbar": {
              "outlinewidth": 0,
              "ticks": ""
             }
            },
            "marker": {
             "colorbar": {
              "outlinewidth": 0,
              "ticks": ""
             }
            },
            "type": "scatter3d"
           }
          ],
          "scattercarpet": [
           {
            "marker": {
             "colorbar": {
              "outlinewidth": 0,
              "ticks": ""
             }
            },
            "type": "scattercarpet"
           }
          ],
          "scattergeo": [
           {
            "marker": {
             "colorbar": {
              "outlinewidth": 0,
              "ticks": ""
             }
            },
            "type": "scattergeo"
           }
          ],
          "scattergl": [
           {
            "marker": {
             "colorbar": {
              "outlinewidth": 0,
              "ticks": ""
             }
            },
            "type": "scattergl"
           }
          ],
          "scattermapbox": [
           {
            "marker": {
             "colorbar": {
              "outlinewidth": 0,
              "ticks": ""
             }
            },
            "type": "scattermapbox"
           }
          ],
          "scatterpolar": [
           {
            "marker": {
             "colorbar": {
              "outlinewidth": 0,
              "ticks": ""
             }
            },
            "type": "scatterpolar"
           }
          ],
          "scatterpolargl": [
           {
            "marker": {
             "colorbar": {
              "outlinewidth": 0,
              "ticks": ""
             }
            },
            "type": "scatterpolargl"
           }
          ],
          "scatterternary": [
           {
            "marker": {
             "colorbar": {
              "outlinewidth": 0,
              "ticks": ""
             }
            },
            "type": "scatterternary"
           }
          ],
          "surface": [
           {
            "colorbar": {
             "outlinewidth": 0,
             "ticks": ""
            },
            "colorscale": [
             [
              0,
              "#0d0887"
             ],
             [
              0.1111111111111111,
              "#46039f"
             ],
             [
              0.2222222222222222,
              "#7201a8"
             ],
             [
              0.3333333333333333,
              "#9c179e"
             ],
             [
              0.4444444444444444,
              "#bd3786"
             ],
             [
              0.5555555555555556,
              "#d8576b"
             ],
             [
              0.6666666666666666,
              "#ed7953"
             ],
             [
              0.7777777777777778,
              "#fb9f3a"
             ],
             [
              0.8888888888888888,
              "#fdca26"
             ],
             [
              1,
              "#f0f921"
             ]
            ],
            "type": "surface"
           }
          ],
          "table": [
           {
            "cells": {
             "fill": {
              "color": "#EBF0F8"
             },
             "line": {
              "color": "white"
             }
            },
            "header": {
             "fill": {
              "color": "#C8D4E3"
             },
             "line": {
              "color": "white"
             }
            },
            "type": "table"
           }
          ]
         },
         "layout": {
          "annotationdefaults": {
           "arrowcolor": "#2a3f5f",
           "arrowhead": 0,
           "arrowwidth": 1
          },
          "autotypenumbers": "strict",
          "coloraxis": {
           "colorbar": {
            "outlinewidth": 0,
            "ticks": ""
           }
          },
          "colorscale": {
           "diverging": [
            [
             0,
             "#8e0152"
            ],
            [
             0.1,
             "#c51b7d"
            ],
            [
             0.2,
             "#de77ae"
            ],
            [
             0.3,
             "#f1b6da"
            ],
            [
             0.4,
             "#fde0ef"
            ],
            [
             0.5,
             "#f7f7f7"
            ],
            [
             0.6,
             "#e6f5d0"
            ],
            [
             0.7,
             "#b8e186"
            ],
            [
             0.8,
             "#7fbc41"
            ],
            [
             0.9,
             "#4d9221"
            ],
            [
             1,
             "#276419"
            ]
           ],
           "sequential": [
            [
             0,
             "#0d0887"
            ],
            [
             0.1111111111111111,
             "#46039f"
            ],
            [
             0.2222222222222222,
             "#7201a8"
            ],
            [
             0.3333333333333333,
             "#9c179e"
            ],
            [
             0.4444444444444444,
             "#bd3786"
            ],
            [
             0.5555555555555556,
             "#d8576b"
            ],
            [
             0.6666666666666666,
             "#ed7953"
            ],
            [
             0.7777777777777778,
             "#fb9f3a"
            ],
            [
             0.8888888888888888,
             "#fdca26"
            ],
            [
             1,
             "#f0f921"
            ]
           ],
           "sequentialminus": [
            [
             0,
             "#0d0887"
            ],
            [
             0.1111111111111111,
             "#46039f"
            ],
            [
             0.2222222222222222,
             "#7201a8"
            ],
            [
             0.3333333333333333,
             "#9c179e"
            ],
            [
             0.4444444444444444,
             "#bd3786"
            ],
            [
             0.5555555555555556,
             "#d8576b"
            ],
            [
             0.6666666666666666,
             "#ed7953"
            ],
            [
             0.7777777777777778,
             "#fb9f3a"
            ],
            [
             0.8888888888888888,
             "#fdca26"
            ],
            [
             1,
             "#f0f921"
            ]
           ]
          },
          "colorway": [
           "#636efa",
           "#EF553B",
           "#00cc96",
           "#ab63fa",
           "#FFA15A",
           "#19d3f3",
           "#FF6692",
           "#B6E880",
           "#FF97FF",
           "#FECB52"
          ],
          "font": {
           "color": "#2a3f5f"
          },
          "geo": {
           "bgcolor": "white",
           "lakecolor": "white",
           "landcolor": "#E5ECF6",
           "showlakes": true,
           "showland": true,
           "subunitcolor": "white"
          },
          "hoverlabel": {
           "align": "left"
          },
          "hovermode": "closest",
          "mapbox": {
           "style": "light"
          },
          "paper_bgcolor": "white",
          "plot_bgcolor": "#E5ECF6",
          "polar": {
           "angularaxis": {
            "gridcolor": "white",
            "linecolor": "white",
            "ticks": ""
           },
           "bgcolor": "#E5ECF6",
           "radialaxis": {
            "gridcolor": "white",
            "linecolor": "white",
            "ticks": ""
           }
          },
          "scene": {
           "xaxis": {
            "backgroundcolor": "#E5ECF6",
            "gridcolor": "white",
            "gridwidth": 2,
            "linecolor": "white",
            "showbackground": true,
            "ticks": "",
            "zerolinecolor": "white"
           },
           "yaxis": {
            "backgroundcolor": "#E5ECF6",
            "gridcolor": "white",
            "gridwidth": 2,
            "linecolor": "white",
            "showbackground": true,
            "ticks": "",
            "zerolinecolor": "white"
           },
           "zaxis": {
            "backgroundcolor": "#E5ECF6",
            "gridcolor": "white",
            "gridwidth": 2,
            "linecolor": "white",
            "showbackground": true,
            "ticks": "",
            "zerolinecolor": "white"
           }
          },
          "shapedefaults": {
           "line": {
            "color": "#2a3f5f"
           }
          },
          "ternary": {
           "aaxis": {
            "gridcolor": "white",
            "linecolor": "white",
            "ticks": ""
           },
           "baxis": {
            "gridcolor": "white",
            "linecolor": "white",
            "ticks": ""
           },
           "bgcolor": "#E5ECF6",
           "caxis": {
            "gridcolor": "white",
            "linecolor": "white",
            "ticks": ""
           }
          },
          "title": {
           "x": 0.05
          },
          "xaxis": {
           "automargin": true,
           "gridcolor": "white",
           "linecolor": "white",
           "ticks": "",
           "title": {
            "standoff": 15
           },
           "zerolinecolor": "white",
           "zerolinewidth": 2
          },
          "yaxis": {
           "automargin": true,
           "gridcolor": "white",
           "linecolor": "white",
           "ticks": "",
           "title": {
            "standoff": 15
           },
           "zerolinecolor": "white",
           "zerolinewidth": 2
          }
         }
        },
        "title": {
         "text": "GDP Current USD Time Series by Demographic (USD)"
        },
        "xaxis": {
         "anchor": "y",
         "domain": [
          0,
          1
         ],
         "title": {
          "text": "date"
         }
        },
        "yaxis": {
         "anchor": "x",
         "domain": [
          0,
          1
         ],
         "title": {
          "text": "Value (USD)"
         }
        }
       }
      }
     },
     "metadata": {},
     "output_type": "display_data"
    }
   ],
   "source": [
    "import pandas as pd\n",
    "import plotly.express as px\n",
    "import json\n",
    "import os\n",
    "\n",
    "def load_json(filepath):\n",
    "    with open(filepath, 'r') as file:\n",
    "        return json.load(file)\n",
    "\n",
    "def normalize_country_name(country, standardization):\n",
    "    for standard_name, data in standardization['countries'].items():\n",
    "        if country.lower() in [alias.lower() for alias in data['aliases']]:\n",
    "            return standard_name\n",
    "    return country.lower()\n",
    "\n",
    "def load_and_prepare_data(metadata_path, data_path, indicators_path):\n",
    "    standardization = load_json(metadata_path)\n",
    "    indicators = load_json(indicators_path)\n",
    "    data_dict = {}\n",
    "\n",
    "    for category, indicator_dict in indicators.items():\n",
    "        for indicator, details in indicator_dict.items():\n",
    "            csv_file = f\"{data_path}/{category}/{indicator}_world_bank.csv\"\n",
    "            if os.path.exists(csv_file):\n",
    "                df = pd.read_csv(csv_file, index_col='date', parse_dates=True)\n",
    "                df.columns = [normalize_country_name(col, standardization) for col in df.columns]\n",
    "                df = df.interpolate(method='linear', axis=0)  # Linear interpolation\n",
    "                data_dict[indicator] = df\n",
    "    \n",
    "    return data_dict, indicators, standardization\n",
    "\n",
    "def format_value(value):\n",
    "    \"\"\"Format value with appropriate scale and unit\"\"\"\n",
    "    if value >= 1_000_000_000_000:\n",
    "        return f\"{round(value / 1_000_000_000_000, 1)}T\"\n",
    "    elif value >= 1_000_000_000:\n",
    "        return f\"{round(value / 1_000_000_000, 1)}B\"\n",
    "    elif value >= 1_000_000:\n",
    "        return f\"{round(value / 1_000_000, 1)}M\"\n",
    "    elif value >= 1_000:\n",
    "        return f\"{round(value / 1_000, 1)}K\"\n",
    "    else:\n",
    "        return f\"{round(value, 1):.0f}\"\n",
    "\n",
    "def plot_time_series(data_dict, indicators, indicator, countries=None, unit_measure=\"\", category_title=None):\n",
    "    if indicator not in data_dict:\n",
    "        print(f\"Indicator {indicator} not found in the data dictionary.\")\n",
    "        return\n",
    "\n",
    "    df = data_dict[indicator]\n",
    "\n",
    "    if countries is not None:\n",
    "        df = df[countries]\n",
    "\n",
    "    # Load standardization data to get country categorization\n",
    "    standardization = load_json('standardization.json')\n",
    "    \n",
    "    # Add categorization to the melted dataframe\n",
    "    df_melted = df.reset_index().melt(id_vars='date', var_name='country', value_name='value')\n",
    "    df_melted['formatted_value'] = df_melted['value'].apply(format_value)\n",
    "\n",
    "    # Get the title for the indicator\n",
    "    title = None\n",
    "    for category, indicator_dict in indicators.items():\n",
    "        if indicator in indicator_dict:\n",
    "            title = indicator_dict[indicator]['title']\n",
    "            break\n",
    "\n",
    "    if not title:\n",
    "        title = indicator.capitalize()\n",
    "\n",
    "    if category_title and category_title != \"none\":\n",
    "        # Create a mapping of countries to their categories\n",
    "        category_index = 0 if category_title == \"demographic\" else 1\n",
    "        country_category = {country: data['categorization'][category_index] \n",
    "                            for country, data in standardization['countries'].items()}\n",
    "\n",
    "        # Add category column to the dataframe\n",
    "        df_melted['category'] = df_melted['country'].apply(lambda x: country_category.get(x, 'Unknown'))\n",
    "\n",
    "        fig = px.line(\n",
    "            df_melted,\n",
    "            x='date',\n",
    "            y='value',\n",
    "            color='country',\n",
    "            line_dash='category',  # Group by category\n",
    "            custom_data=['formatted_value'],  # Include the formatted value for hover data\n",
    "            labels={'value': f'Value ({unit_measure})', 'category': 'Category'},\n",
    "            title=f'{title} Time Series by {category_title.capitalize()} ({unit_measure})' if unit_measure else f'{title} Time Series by {category_title.capitalize()}'\n",
    "        )\n",
    "    else:\n",
    "        fig = px.line(\n",
    "            df_melted,\n",
    "            x='date',\n",
    "            y='value',\n",
    "            color='country',\n",
    "            custom_data=['formatted_value'],  # Include the formatted value for hover data\n",
    "            labels={'value': f'Value ({unit_measure})'},\n",
    "            title=f'{title} Time Series ({unit_measure})' if unit_measure else f'{title} Time Series'\n",
    "        )\n",
    "\n",
    "    # Update hover template to show absolute value and unit measure\n",
    "    fig.update_traces(\n",
    "        hovertemplate=\"<b>%{fullData.name}</b><br>Date: %{x}<br>Value: %{customdata[0]} \" + unit_measure + \"<extra></extra>\"\n",
    "    )\n",
    "\n",
    "    fig.show()\n",
    "\n",
    "if __name__ == \"__main__\":\n",
    "    # Load data\n",
    "    metadata_path = 'standardization.json'\n",
    "    indicators_path = 'indicators.json'\n",
    "    data_path = 'data'\n",
    "    data_dict, indicators, standardization = load_and_prepare_data(metadata_path, data_path, indicators_path)\n",
    "\n",
    "    # Plot time series for selected countries and category\n",
    "    plot_time_series(data_dict, indicators, 'gdp_current_usd', countries=['brazil', 'china', 'united_states'], unit_measure=\"USD\", category_title=\"demographic\")\n"
   ]
  },
  {
   "cell_type": "code",
   "execution_count": null,
   "metadata": {},
   "outputs": [],
   "source": []
  }
 ],
 "metadata": {
  "kernelspec": {
   "display_name": "venv",
   "language": "python",
   "name": "python3"
  },
  "language_info": {
   "codemirror_mode": {
    "name": "ipython",
    "version": 3
   },
   "file_extension": ".py",
   "mimetype": "text/x-python",
   "name": "python",
   "nbconvert_exporter": "python",
   "pygments_lexer": "ipython3",
   "version": "3.10.12"
  }
 },
 "nbformat": 4,
 "nbformat_minor": 2
}
